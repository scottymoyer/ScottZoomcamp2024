{
 "cells": [
  {
   "cell_type": "code",
   "execution_count": 1,
   "id": "f73742e6-6c6d-417e-9a9a-f5f1ae25636d",
   "metadata": {},
   "outputs": [
    {
     "name": "stdout",
     "output_type": "stream",
     "text": [
      "DE Zoomcamp makes my dreams come true\n"
     ]
    }
   ],
   "source": [
    "print(\"DE Zoomcamp makes my dreams come true\")"
   ]
  },
  {
   "cell_type": "code",
   "execution_count": 2,
   "id": "eb5dbfff-db15-42af-9541-ac2b33ab1bdb",
   "metadata": {},
   "outputs": [
    {
     "name": "stdout",
     "output_type": "stream",
     "text": [
      "woohoo\n"
     ]
    }
   ],
   "source": [
    "print(\"woohoo\")"
   ]
  },
  {
   "cell_type": "code",
   "execution_count": null,
   "id": "644ae202-5685-435a-8f6b-736df160a23d",
   "metadata": {},
   "outputs": [],
   "source": []
  }
 ],
 "metadata": {
  "kernelspec": {
   "display_name": "Python 3 (ipykernel)",
   "language": "python",
   "name": "python3"
  },
  "language_info": {
   "codemirror_mode": {
    "name": "ipython",
    "version": 3
   },
   "file_extension": ".py",
   "mimetype": "text/x-python",
   "name": "python",
   "nbconvert_exporter": "python",
   "pygments_lexer": "ipython3",
   "version": "3.10.13"
  }
 },
 "nbformat": 4,
 "nbformat_minor": 5
}
